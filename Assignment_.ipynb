{
  "nbformat": 4,
  "nbformat_minor": 0,
  "metadata": {
    "colab": {
      "provenance": []
    },
    "kernelspec": {
      "name": "python3",
      "display_name": "Python 3"
    },
    "language_info": {
      "name": "python"
    }
  },
  "cells": [
    {
      "cell_type": "markdown",
      "source": [
        "#1-Write a Python program to add an item to a tuple."
      ],
      "metadata": {
        "id": "4Vrus9jLgv9x"
      }
    },
    {
      "cell_type": "code",
      "execution_count": null,
      "metadata": {
        "colab": {
          "base_uri": "https://localhost:8080/"
        },
        "id": "6vEIrz5nY8j2",
        "outputId": "fd98bdee-3824-4c65-b0bd-b24e342033bf"
      },
      "outputs": [
        {
          "output_type": "stream",
          "name": "stdout",
          "text": [
            "(1, 2, 3, 4, 6)\n"
          ]
        }
      ],
      "source": [
        "def add_item(tupple , new_item):\n",
        "  new_tup = tuple (list(tupple )+ [new_item ])\n",
        "  return new_tup\n",
        "\n",
        "tupple = (1,2,3,4)\n",
        "\n",
        "result = add_item(tupple, 6)\n",
        "\n",
        "print ( result)"
      ]
    },
    {
      "cell_type": "markdown",
      "source": [
        "#2. Write a Python program to sum all the items in a list."
      ],
      "metadata": {
        "id": "s3utN2R_g8hp"
      }
    },
    {
      "cell_type": "code",
      "source": [
        "def sum_items(lst):\n",
        "  sum_lst = 0\n",
        "  for item in lst:\n",
        "    sum_lst += item\n",
        "  return sum_lst\n",
        "\n",
        "\n",
        "lst = [1,2,3,4,5,6,7,8]\n",
        "result = sum_items(lst)\n",
        "\n",
        "print (result )"
      ],
      "metadata": {
        "colab": {
          "base_uri": "https://localhost:8080/"
        },
        "id": "waw2upPdg8Lg",
        "outputId": "cfaf8444-751d-4f0d-c898-bbaacf3f75cb"
      },
      "execution_count": null,
      "outputs": [
        {
          "output_type": "stream",
          "name": "stdout",
          "text": [
            "36\n"
          ]
        }
      ]
    },
    {
      "cell_type": "markdown",
      "source": [
        "#3. Write a Python program to multiply all the items in a list."
      ],
      "metadata": {
        "id": "_pjEXxiHiTKL"
      }
    },
    {
      "cell_type": "code",
      "source": [
        "def mult_items(lst):\n",
        "  i = 1\n",
        "  for item in lst:\n",
        "    i *= item\n",
        "  return i\n",
        "\n",
        "\n",
        "lst = [1,2,3,4,5,6,7,8]\n",
        "result = mult_items(lst)\n",
        "print(result)\n"
      ],
      "metadata": {
        "colab": {
          "base_uri": "https://localhost:8080/"
        },
        "id": "tK2Y_0Sbiarj",
        "outputId": "444fa09b-7e23-4ab4-dacc-a22f46b7a5ee"
      },
      "execution_count": null,
      "outputs": [
        {
          "output_type": "stream",
          "name": "stdout",
          "text": [
            "40320\n"
          ]
        }
      ]
    },
    {
      "cell_type": "markdown",
      "source": [
        "#4. Write a Python program to get the smallest number from a list."
      ],
      "metadata": {
        "id": "dPowMI0ujiTL"
      }
    },
    {
      "cell_type": "code",
      "source": [
        "def min_num(lst):\n",
        "  return min(lst)\n",
        "\n",
        "lst = [55,5,5434,10.2,4534,0.45,5787]\n",
        "result = min_num(lst)\n",
        "print(result )\n"
      ],
      "metadata": {
        "colab": {
          "base_uri": "https://localhost:8080/"
        },
        "id": "EXTJOZyDjmiy",
        "outputId": "7a2a6718-cff9-4a05-d53e-c7c4d5e5c3c9"
      },
      "execution_count": null,
      "outputs": [
        {
          "output_type": "stream",
          "name": "stdout",
          "text": [
            "0.45\n"
          ]
        }
      ]
    },
    {
      "cell_type": "markdown",
      "source": [
        "#5. Write a Python program to get the largest number from a list."
      ],
      "metadata": {
        "id": "Z-gKKNqVlJMU"
      }
    },
    {
      "cell_type": "code",
      "source": [
        "def max_num(lst):\n",
        "  lst.sort()\n",
        "  return lst[-1]\n",
        "\n",
        "lst = [55,5,5434,10.2,4534,0.45,5787]\n",
        "\n",
        "result = max_num(lst)\n",
        "\n",
        "print (result)"
      ],
      "metadata": {
        "colab": {
          "base_uri": "https://localhost:8080/"
        },
        "id": "E8OF9w_3lHk3",
        "outputId": "a61be081-d2ca-4744-f21a-17e366eade78"
      },
      "execution_count": null,
      "outputs": [
        {
          "output_type": "stream",
          "name": "stdout",
          "text": [
            "5787\n"
          ]
        }
      ]
    },
    {
      "cell_type": "markdown",
      "source": [
        "#6. Write a Python program to count the number of strings from a given list of strings."
      ],
      "metadata": {
        "id": "nG13ubIClm-l"
      }
    },
    {
      "cell_type": "code",
      "source": [
        "def count_str(lst):\n",
        "  count=0\n",
        "  for item in lst:\n",
        "    if isinstance(item,str):\n",
        "      count +=1\n",
        "  return count\n",
        "\n",
        "\n",
        "\n",
        "lst = [\"apple\", 2,6,\"banana\", \"cherry\",7, \"date\", 8,\"fig\", 5 ,  \"grape\"]\n",
        "result = count_str(lst)\n",
        "\n",
        "print (result )\n"
      ],
      "metadata": {
        "colab": {
          "base_uri": "https://localhost:8080/"
        },
        "id": "078uoQPYlvTS",
        "outputId": "a7264d5a-c9d8-44da-bd99-3135f45c88f5"
      },
      "execution_count": null,
      "outputs": [
        {
          "output_type": "stream",
          "name": "stdout",
          "text": [
            "6\n"
          ]
        }
      ]
    },
    {
      "cell_type": "markdown",
      "source": [
        "#7. Write a Python program to clone or copy a list"
      ],
      "metadata": {
        "id": "Jk-Km8CgoOMV"
      }
    },
    {
      "cell_type": "code",
      "source": [
        "def clone_lst(lst):\n",
        "  copied_lst = list(lst)\n",
        "  return copied_lst\n",
        "\n",
        "#ex\n",
        "lst = [1, 2, 3, 4, 56]\n",
        "copied_lst = clone_lst(lst)\n",
        "print (copied_lst)"
      ],
      "metadata": {
        "colab": {
          "base_uri": "https://localhost:8080/"
        },
        "id": "mSCEdQ5NpLw_",
        "outputId": "d8222e18-9ba0-4d8c-c912-f4eacca7e40f"
      },
      "execution_count": null,
      "outputs": [
        {
          "output_type": "stream",
          "name": "stdout",
          "text": [
            "[1, 2, 3, 4, 56]\n"
          ]
        }
      ]
    },
    {
      "cell_type": "markdown",
      "source": [
        "#8. Write a Python program to remove item(s) from a given set."
      ],
      "metadata": {
        "id": "cEnWvMeRBseh"
      }
    },
    {
      "cell_type": "code",
      "source": [
        "def remove_item(set, item):\n",
        "  try:\n",
        "    set.remove(item)\n",
        "  except (KeyError, TypeError):\n",
        "    print (f\"{item} is not in the set, please try again\")\n",
        "  return set\n",
        "my_set = {1, 2, 3, 4, 5}\n",
        "\n",
        "result = remove_item(my_set,5 )\n",
        "print (result)\n",
        "\n"
      ],
      "metadata": {
        "colab": {
          "base_uri": "https://localhost:8080/"
        },
        "id": "LP9xiZ4-B0SE",
        "outputId": "445c0191-c48f-490c-fb8b-724474ff2a2a"
      },
      "execution_count": null,
      "outputs": [
        {
          "output_type": "stream",
          "name": "stdout",
          "text": [
            "{1, 2, 3, 4}\n"
          ]
        }
      ]
    },
    {
      "cell_type": "markdown",
      "source": [
        "#9. Write a Python program to check if a set is a subset of another set."
      ],
      "metadata": {
        "id": "QQKCbdd_F4FH"
      }
    },
    {
      "cell_type": "code",
      "source": [
        "def is_subset (set1, set2):\n",
        "  return set2.issubset(set1)\n",
        "\n",
        "\n",
        "set1 = {1, 2, 3, 4, 5}\n",
        "set2 = {1, 2, 3}\n",
        "\n",
        "result = is_subset(set1,set2)\n",
        "if result == True :\n",
        "  print (\"Yes, it's a subset from set1 \")\n",
        "else:\n",
        "  print (\"No, it's not a subset from set1\")\n",
        "\n"
      ],
      "metadata": {
        "colab": {
          "base_uri": "https://localhost:8080/"
        },
        "id": "FfhSkhIrGAgy",
        "outputId": "1f3989ce-5a2f-4d3a-ea0b-ce74d5a61656"
      },
      "execution_count": null,
      "outputs": [
        {
          "output_type": "stream",
          "name": "stdout",
          "text": [
            "Yes, it's a subset from set1 \n"
          ]
        }
      ]
    },
    {
      "cell_type": "markdown",
      "source": [
        "#10. Write a Python program to remove all elements from a given set."
      ],
      "metadata": {
        "id": "HAWkyj_LIt12"
      }
    },
    {
      "cell_type": "code",
      "source": [
        "def clean_set(set):\n",
        "  set.clear()\n",
        "  return set\n",
        "\n",
        "set1 = {1, 2, 3, 4, 5}\n",
        "result = clean_set(set1)\n",
        "\n",
        "print (result)"
      ],
      "metadata": {
        "colab": {
          "base_uri": "https://localhost:8080/"
        },
        "id": "eZijs7SKIx_5",
        "outputId": "b1ed01c6-c13f-407c-8790-2b442a1c7b6d"
      },
      "execution_count": null,
      "outputs": [
        {
          "output_type": "stream",
          "name": "stdout",
          "text": [
            "set()\n"
          ]
        }
      ]
    },
    {
      "cell_type": "markdown",
      "source": [
        "#11. Write a Python program to find the maximum and minimum values in a set."
      ],
      "metadata": {
        "id": "s2_YKgCcJXZs"
      }
    },
    {
      "cell_type": "code",
      "source": [
        "def max_min (set1):\n",
        "  return max(set1), min(set1)\n",
        "\n",
        "set1 = {1, 2, 3, 4, 5}\n",
        "result= max_min(set1)\n",
        "\n",
        "print (result)"
      ],
      "metadata": {
        "colab": {
          "base_uri": "https://localhost:8080/"
        },
        "id": "ByTxbi0-JeZc",
        "outputId": "86070315-5e56-44a5-fc5e-b3b9cda6893e"
      },
      "execution_count": null,
      "outputs": [
        {
          "output_type": "stream",
          "name": "stdout",
          "text": [
            "(5, 1)\n"
          ]
        }
      ]
    },
    {
      "cell_type": "markdown",
      "source": [
        "#12. Write a Python program to find the index of an item in a tuple"
      ],
      "metadata": {
        "id": "DAt3JWChKdNR"
      }
    },
    {
      "cell_type": "code",
      "source": [
        "def find_index(tupple, item):\n",
        "  try:\n",
        "    place = tupple.index (item)\n",
        "    return place\n",
        "  except ValueError:\n",
        "    print (\"the item is not in the tuple \")\n",
        "\n",
        "my_tuple = (10, 20, 30, 40, 50)\n",
        "\n",
        "result = find_index(my_tuple , 40)\n",
        "print (result)\n",
        "\n",
        "\n"
      ],
      "metadata": {
        "colab": {
          "base_uri": "https://localhost:8080/"
        },
        "id": "1JYx18uJKhvi",
        "outputId": "be7c773f-fa9a-4efe-d76a-90e246483b4d"
      },
      "execution_count": null,
      "outputs": [
        {
          "output_type": "stream",
          "name": "stdout",
          "text": [
            "3\n"
          ]
        }
      ]
    },
    {
      "cell_type": "markdown",
      "source": [
        "#13. Write a Python program to convert a tuple to a dictionary."
      ],
      "metadata": {
        "id": "Z5_dKTiRL7O4"
      }
    },
    {
      "cell_type": "code",
      "source": [
        "def tup_to_dic(tupple ):\n",
        "  if len(tupple) % 2 != 0 :\n",
        "    raise ValueError (\"the length of the tuple must be even to convert it to a dict \")\n",
        "\n",
        "  my_dict ={}\n",
        "  for i in range (0, len(tupple), 2):\n",
        "    key = tupple[i]\n",
        "    value = tupple[i+1]\n",
        "    my_dict[key] = value\n",
        "  return my_dict\n",
        "\n",
        "my_tuple = ('a', 1, 'b', 2, 'c', 3)\n",
        "result = tup_to_dic(my_tuple)\n",
        "print (result )\n"
      ],
      "metadata": {
        "colab": {
          "base_uri": "https://localhost:8080/"
        },
        "id": "h_IFMvHvMBOU",
        "outputId": "7e0b744b-7d81-4357-e113-a72742d73d4f"
      },
      "execution_count": null,
      "outputs": [
        {
          "output_type": "stream",
          "name": "stdout",
          "text": [
            "{'a': 1, 'b': 2, 'c': 3}\n"
          ]
        }
      ]
    },
    {
      "cell_type": "markdown",
      "source": [
        "#14. Write a Python program to unzip a list of tuples into individual lists.  "
      ],
      "metadata": {
        "id": "hY1DUs3NNwX1"
      }
    },
    {
      "cell_type": "code",
      "source": [
        "def unzip_tup(lst):\n",
        "  unzip = list(zip(*lst))\n",
        "  lists = [list(i) for i in unzip ]\n",
        "  return lists\n",
        "\n",
        "l = [(1, 'a', True), (2, 'b', False), (3, 'c', True)]\n",
        "result= unzip_tup(l)\n",
        "\n",
        "for i, lst in enumerate(result):\n",
        "    print(f\"List {i + 1}: {lst}\")\n",
        "\n"
      ],
      "metadata": {
        "colab": {
          "base_uri": "https://localhost:8080/"
        },
        "id": "QAsKK6rKM4aV",
        "outputId": "ff43fa39-7f26-4868-c2d4-6c27502edef0"
      },
      "execution_count": null,
      "outputs": [
        {
          "output_type": "stream",
          "name": "stdout",
          "text": [
            "List 1: [1, 2, 3]\n",
            "List 2: ['a', 'b', 'c']\n",
            "List 3: [True, False, True]\n"
          ]
        }
      ]
    },
    {
      "cell_type": "markdown",
      "source": [
        "#15. Write a Python program to reverse a tuple."
      ],
      "metadata": {
        "id": "XZIqy25BR3z9"
      }
    },
    {
      "cell_type": "code",
      "source": [
        "def reverse(tupple):\n",
        "  lst = list(reversed(tupple))\n",
        "\n",
        "  return lst\n",
        "\n",
        "tupple = (1, 2, 3, 4, 5)\n",
        "result = reverse(tuple)\n",
        "print (result)"
      ],
      "metadata": {
        "colab": {
          "base_uri": "https://localhost:8080/"
        },
        "id": "vgEEGVOeR67W",
        "outputId": "55b8e0e0-d7d3-49d0-c465-9f2aace70e77"
      },
      "execution_count": null,
      "outputs": [
        {
          "output_type": "stream",
          "name": "stdout",
          "text": [
            "[5, 4, 3, 2, 1]\n"
          ]
        }
      ]
    },
    {
      "cell_type": "markdown",
      "source": [
        "#16. Write a Python program to convert a list of tuples into a dictionary."
      ],
      "metadata": {
        "id": "6rATikz7TYDF"
      }
    },
    {
      "cell_type": "code",
      "source": [
        "def tuples_to_dict(lst):\n",
        "  dic = {}\n",
        "  for item in lst:\n",
        "    key, value = item\n",
        "    dic[key] = value\n",
        "  return dic\n",
        "\n",
        "list_of_tuples = [(1, 'one'), (2, 'two'), (3, 'three')]\n",
        "\n",
        "result = tuples_to_dict(list_of_tuples)\n",
        "print (result )"
      ],
      "metadata": {
        "colab": {
          "base_uri": "https://localhost:8080/"
        },
        "id": "8CIQ7I5wTcR6",
        "outputId": "76afb2e2-b911-4e15-f87b-6456e6b106b2"
      },
      "execution_count": null,
      "outputs": [
        {
          "output_type": "stream",
          "name": "stdout",
          "text": [
            "{1: 'one', 2: 'two', 3: 'three'}\n"
          ]
        }
      ]
    },
    {
      "cell_type": "markdown",
      "source": [
        "#17. Write a Python program to replace the last value of tuples in a list."
      ],
      "metadata": {
        "id": "gZoGkyu_UdXB"
      }
    },
    {
      "cell_type": "code",
      "source": [
        "def replace_item(lst, item):\n",
        "  for index ,tuple_item in enumerate(lst):\n",
        "    if isinstance(tuple_item, tuple):\n",
        "      new_tuple = tuple_item[:-1] + (item,)\n",
        "      lst[index] = new_tuple\n",
        "  return lst\n",
        "\n",
        "input_list = [(1, 2, 3), (4, 5, 6), (7, 8, 9)]\n",
        "result = replace_item(input_list, 55)\n",
        "print (result)\n"
      ],
      "metadata": {
        "colab": {
          "base_uri": "https://localhost:8080/"
        },
        "id": "7D0uN7UzUhRN",
        "outputId": "da44320b-d36a-44f1-d306-8898f4d571b1"
      },
      "execution_count": null,
      "outputs": [
        {
          "output_type": "stream",
          "name": "stdout",
          "text": [
            "[(1, 2, 55), (4, 5, 55), (7, 8, 55)]\n"
          ]
        }
      ]
    },
    {
      "cell_type": "markdown",
      "source": [
        "#18.  Write a Python program to sort a tuple by its float element."
      ],
      "metadata": {
        "id": "DPXAaS-uW9Cp"
      }
    },
    {
      "cell_type": "code",
      "source": [
        "def sort_tuple(tupple):\n",
        "  sort = sorted(tupple, key = lambda x: x[1])\n",
        "  return sort\n",
        "\n",
        "\n",
        "data = [(\"Alice\", 3.2), (\"Bob\", 1.5), (\"Charlie\", 2.7), (\"David\", 4.0)]\n",
        "\n",
        "result = sort_tuple(data)\n",
        "print (result )"
      ],
      "metadata": {
        "colab": {
          "base_uri": "https://localhost:8080/"
        },
        "id": "Fxk-hq9ZW-MR",
        "outputId": "582e03a0-e9ab-406d-ad07-572cbf9b4e5b"
      },
      "execution_count": null,
      "outputs": [
        {
          "output_type": "stream",
          "name": "stdout",
          "text": [
            "[('Bob', 1.5), ('Charlie', 2.7), ('Alice', 3.2), ('David', 4.0)]\n"
          ]
        }
      ]
    }
  ]
}